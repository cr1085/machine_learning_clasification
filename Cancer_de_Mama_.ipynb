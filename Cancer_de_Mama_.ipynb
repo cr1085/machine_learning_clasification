{
  "nbformat": 4,
  "nbformat_minor": 0,
  "metadata": {
    "colab": {
      "provenance": [],
      "authorship_tag": "ABX9TyMEJTXX4hmCPqI/3Pk6sIHp",
      "include_colab_link": true
    },
    "kernelspec": {
      "name": "python3",
      "display_name": "Python 3"
    },
    "language_info": {
      "name": "python"
    }
  },
  "cells": [
    {
      "cell_type": "markdown",
      "metadata": {
        "id": "view-in-github",
        "colab_type": "text"
      },
      "source": [
        "<a href=\"https://colab.research.google.com/github/cr1085/machine_learning_clasification/blob/main/Cancer_de_Mama_.ipynb\" target=\"_parent\"><img src=\"https://colab.research.google.com/assets/colab-badge.svg\" alt=\"Open In Colab\"/></a>"
      ]
    },
    {
      "cell_type": "code",
      "source": [
        "# @title Texto de título predeterminado\n",
        "from io import IncrementalNewlineDecoder\n",
        "# importando las librerías escenciales\n",
        "import numpy as np\n",
        "import pandas as pd\n",
        "import matplotlib.pyplot as plt\n",
        "import seaborn as sns\n",
        "# -----------------------------\n",
        "from sklearn.model_selection import train_test_split\n",
        "from sklearn.preprocessing import StandardScaler\n",
        "from sklearn.ensemble import RandomForestClassifier\n",
        "from sklearn.metrics import classification_report, confusion_matrix, accuracy_score\n",
        "from sklearn.datasets import load_breast_cancer\n",
        "# -----------------------------\n",
        "# Configurar estilo de graficos\n",
        "plt.style.use('ggplot')\n",
        "%matplotlib Inline\n",
        "#----------------------------------\n",
        "# 1. cargar y explorar los datos\n",
        "print(\"======1. Cargando y explorando los datos ===\")\n",
        "data = load_breast_cancer()\n",
        "df=pd.DataFrame(data.data, columns=data.feature_names)\n",
        "df['target'] = data.target\n",
        "print(\"\\nPrimeras 5 filas de dataset:\")\n",
        "print(df.head())\n",
        "print(\"\\nInformación del dataset\")\n",
        "print(df.info())\n",
        "print('\\nEstadísticas descriptivas')\n",
        "print(df.describe())\n",
        "# Visualización de los datos\n",
        "print('\\n===2. Visualización de datos===')\n",
        "plt.figure(figsize=(12,8))\n",
        "sns.countplot(x='target', data=df)\n",
        "plt.title('Distribucción de casos (0: Maligno, 1: Benigno)')\n",
        "plt.show()\n",
        "# Histogramas de las carcaterísticas\n",
        "df.drop('target', axis=1).hist(bins=20, figsize=(20, 15))\n",
        "plt.suptitle('Distribución de caraterísticas', y=1.02)\n",
        "plt.show()\n",
        "#Matriz de correlaciòn\n",
        "plt.figure(figsize=(15,10))\n",
        "sns.heatmap(df.corr(), annot=False, cmap='coolwarm')\n",
        "plt.title('matriz de correlaciòn entre caracteristicas')\n",
        "plt.show()\n",
        "#procesamiento de datos\n",
        "print('\\n===3.procesamiento de datos===')\n",
        "x=df.drop('target', axis=1)\n",
        "y=df['target']\n",
        "# Dividir en conjunto  entrenamientos de prueba\n",
        "X_train, X_test, y_train, y_test = train_test_split(X, y, test_size=0.3, random_state=42)\n",
        "#Escalar caracteristicas\n",
        "scaler = StandardScaler()\n",
        "X_train = scaler.fit_transform(X_train)\n",
        "X_test = scaler.transform(X_test)\n",
        "print(\"===SALIDAS===\")\n",
        "print(f\"\\nForma de los datos de entrenamiento: {X_train.shape}\")\n",
        "print(f\"Forma de los datos de prueba: {X_test.shape}\")\n",
        "# Entrenamiento del modelo\n",
        "print('\\n===4. Entrenamiento del modelo===')\n",
        "model = RandomForestClassifier(n_estimators=100, random_state=42)\n",
        "model.fit(x_train, y_train)\n",
        "#Evaluaciòn del modelo\n",
        "print('\\n===5. evaluaciòn del modelo===')\n",
        "y_pred = model.predict(x_test)\n",
        "print(\"\\n==Reporte de clasificaciòn==:\")\n",
        "print(clasificaciòn_report(y_test,y_pred))\n",
        "#======================================================\n",
        "# Las matrices de confusiòn son herramientas escenciales en el\n",
        "# aprendizaje automatico, especialmente para evaluar el rendimiento\n",
        "# de los modelos de clasificaciòn. Permite la visualizar y analizar la posiciòn_\n",
        "# de las predicciones, identificando errores comunes y areas donde el\n",
        "# modelo necesita mejoras.\n",
        "print(\"\\nMatriz de cofunsiòn:\")\n",
        "plt.figure(figsize=(8, 6))\n",
        "sns.heatmap(confusion_matrix(y_test, y_pred), annot=true, fmt='d', cmap='Blues')\n",
        "ptl.tittle('Matriz de confusiòn')\n",
        "plt.xlabel('predicho')\n",
        "plt.ylabel('real')\n",
        "plt.show()\n",
        "#===============================================================================\n",
        "print(f\"\\nPrecisiòn del modelo:{accuracy_score(y_test,y_pred): .2f\"}\n",
        "# Importancia de las caracteristicas\n",
        "print(\" \\n===6. Importancias de las caracteristicas==== \")\n",
        "feature_importace = pd.Series(model.feature_importances_,index=data.feature_names)\n",
        "feature_importance.nlargest(10).plot(kind='barh', figsize=(10, 8))\n",
        "ptl.tittle('Importancia de las caracteristicas')\n",
        "plt.show()\n",
        "# Prediccion de ejemplo\n",
        "print('\\n===7. Predicción de ejemplo ===')\n",
        "sample = x_test[0].reshape(1,-1)\n",
        "prediccion=model.predict(sample)\n",
        "print(f\"\\nPredicción para muestra de ejemplo o de prueba: {'Benigno' if prediccion[0] == 1 else 'Malingo'}\")\n",
        "print(f\"Etiqueta real: {'Benigno' if y_test.iloc[0] == 1 else 'Maligno'}\")\n",
        "\n",
        "\n",
        "\n",
        "\n",
        "\n",
        "\n",
        "\n",
        "\n",
        "\n",
        "\n"
      ],
      "metadata": {
        "colab": {
          "base_uri": "https://localhost:8080/",
          "height": 110
        },
        "id": "nFP-INlbtJyf",
        "outputId": "31daecb8-a6a2-421f-d9e5-41e5ff83eb2d"
      },
      "execution_count": 3,
      "outputs": [
        {
          "output_type": "error",
          "ename": "SyntaxError",
          "evalue": "closing parenthesis '}' does not match opening parenthesis '(' (ipython-input-3173621419.py, line 81)",
          "traceback": [
            "\u001b[0;36m  File \u001b[0;32m\"/tmp/ipython-input-3173621419.py\"\u001b[0;36m, line \u001b[0;32m81\u001b[0m\n\u001b[0;31m    print(f\"\\nPrecisiòn del modelo:{accuracy_score(y_test,y_pred): .2f\"})\u001b[0m\n\u001b[0m                                                                       ^\u001b[0m\n\u001b[0;31mSyntaxError\u001b[0m\u001b[0;31m:\u001b[0m closing parenthesis '}' does not match opening parenthesis '('\n"
          ]
        }
      ]
    },
    {
      "cell_type": "markdown",
      "source": [
        "# Explicación del codigo:\n",
        "*    Librerías utilizadas en la codificación\n",
        "1.   numpy/pandas: Manipulación de datos.\n",
        "2.   matplotlib/seaborn:Visualización.\n",
        "3.   sickit-learn:Machine learning (modelo de    procesamiento y de clasificación binaria)\n",
        "4. Dataset: usamos el dataset de cáncer de mama de wisconsin\n",
        "*   30 características numéricas\n",
        "*   variables objetivo binaria (0:maligno, 1: benigno)\n",
        "## Visualizaciones incluidas\n",
        "1.   Distribuciòn de clase objetivo\n",
        "2.   Elemento de lista\n",
        "3.   Matriz de correlaciòn entre caracteristicas(Top 10)\n",
        "### Modelo de Machine learning\n",
        "-**Randon Forest:** Algorismo potente de para clasificaciòn\n",
        "-**Procesamiento:** Escalado estàndar de caracteristicas\n",
        "-**Evaluaciòn:** Reporte de clasificaciòn, precisiòn, matriz de confusiòn.\n",
        "# **5. Còmo ejecutarlo**\n",
        "### Copia este codigo jupyter notebook o script.py\n",
        "### Asegùrate de tener instaladas las librerìas:\n",
        "```bash\n",
        "  pib istall numpy\n",
        "  pib istall pandas\n",
        "  pib istall matploblib\n",
        "  pib istall seaborn\n",
        "  pib istall sickit-learn\n",
        "  ```\n",
        "- Copia y pega este codigo en tu terminal, o ejecutar celdas por celdas en tu jupiter o todo el script\n",
        "#**6. Posibles mejoras**\n",
        "\n",
        "-Ajustes hipermarametros con GripchearCV\n",
        "-Validaciòn cruzada\n",
        "-Prueba con otros algoritmos(SVM,XGBoost,etc.)\n",
        "-Analisis màs detallado de caracteristicas\n",
        "\n",
        "**Este còdigo proporciona un flujo completo de ML con vizualizaciones profesionales listas para presentarnes e informes.**\n",
        "\n",
        "\n",
        "\n",
        "\n",
        "\n",
        "\n",
        "\n",
        "\n",
        "\n",
        "\n",
        "\n",
        "\n",
        "\n",
        "\n"
      ],
      "metadata": {
        "id": "vCsZ8xAGpd72"
      }
    },
    {
      "cell_type": "markdown",
      "source": [],
      "metadata": {
        "id": "UN35IjUbpUTq"
      }
    },
    {
      "cell_type": "markdown",
      "source": [],
      "metadata": {
        "id": "IAMst_ADpVre"
      }
    }
  ]
}